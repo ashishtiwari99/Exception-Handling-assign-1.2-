{
 "cells": [
  {
   "cell_type": "code",
   "execution_count": 6,
   "id": "b5dc3ac8-4eac-40dc-9d48-4ae7961ce157",
   "metadata": {},
   "outputs": [],
   "source": [
    "#Quesstion . 1\n",
    "#There are have four reasons why we are using custom exception\n",
    "#1.Greater Code Trace Ability\n",
    "#2.Account Registration Exception \n",
    "#3.Greater code Usability\n",
    "#4.Improved Exception Handling"
   ]
  },
  {
   "cell_type": "code",
   "execution_count": 7,
   "id": "c00dcb4f-a6f2-4b07-a425-cd1a8815c8fb",
   "metadata": {},
   "outputs": [
    {
     "name": "stdout",
     "output_type": "stream",
     "text": [
      "this is a python exception Hierarchy\n"
     ]
    }
   ],
   "source": [
    "#Question . 2\n",
    "try :\n",
    "    int(\"python\")\n",
    "except:\n",
    "        print(\"this is a python exception Hierarchy\")"
   ]
  },
  {
   "cell_type": "code",
   "execution_count": 9,
   "id": "dd7c509b-9ad9-4f44-ae3f-4b05a2e57f86",
   "metadata": {},
   "outputs": [
    {
     "name": "stdout",
     "output_type": "stream",
     "text": [
      "division by zero, <class 'ZeroDivisionError'>\n"
     ]
    }
   ],
   "source": [
    "#Question . 3\n",
    "#ArithmeticError is thrown when an error occurs while performing mathematical operations. These errors include attempting tom perform a bitshift by a negative amount, and any call to intdiv() that would result in a value outside the possible  bounds of an int.\n",
    "\n",
    "#Example.1 \n",
    "try:\n",
    "    1/0\n",
    "except ArithmeticError as e:\n",
    "    print(f\"{e}, {e.__class__}\")"
   ]
  },
  {
   "cell_type": "code",
   "execution_count": 10,
   "id": "9c11038f-e3ed-4547-844b-36ad6d759bb2",
   "metadata": {},
   "outputs": [
    {
     "name": "stdout",
     "output_type": "stream",
     "text": [
      "(34, 'Numerical result out of range'), <class 'OverflowError'>\n"
     ]
    }
   ],
   "source": [
    "# Example. 2\n",
    "\n",
    "j = 5.0\n",
    "\n",
    "try:\n",
    "    for i in range(1, 1000):\n",
    "        j = j**i\n",
    "except ArithmeticError as e:\n",
    "    print(f\"{e}, {e.__class__}\")"
   ]
  },
  {
   "cell_type": "code",
   "execution_count": 1,
   "id": "71f32847-17ba-48ad-975c-d3b98b16de7f",
   "metadata": {},
   "outputs": [],
   "source": [
    "# Question . 4\n",
    "# Lookup Error - You can use lookupError exception class  to handle both indexError and KeyError Exception classes.\n",
    "#Index Error - An indexError means that your code is trying to access an index that is invalid. Ex-if you have a list with three items and you try  to access the fourth item, you will get a indexError.\n",
    "#Key Error - keyError in python occurs when one tries to access a key in a python dictionary that is not present in the dictionary. Ex_ where a keyError python gets raised while accessinga key in the python dictionary. In the above-defined dictionary, you can access the vehicle  model by its key model. "
   ]
  },
  {
   "cell_type": "code",
   "execution_count": 2,
   "id": "c88346b1-f642-4d5a-9443-fc4680623f76",
   "metadata": {},
   "outputs": [],
   "source": [
    "#Question.5\n",
    "#ImportError - In python, importError  occurs when the python program tries to import module which does not exist in the private tables.\n",
    "#moduleNotFoundError - ModulNotFoundError is a python error that occurs when you try to import a module that is not insttalled oe not found in the current python path.\n"
   ]
  },
  {
   "cell_type": "markdown",
   "id": "fd625a4c-4b5b-4fff-82dd-b66d9b21f6b9",
   "metadata": {
    "tags": []
   },
   "source": [
    "# Question-6\n",
    "# 1. Use Exceptions for exceptional cases\n",
    "# 2.Don't swallow the Exception\n",
    "# 3. catch specific exceptions\n",
    "# 4. Always clean up resources in a finally block\n",
    "# 5. Avoid Raising Generic Exceptions\n",
    "# 6. Raise custom exceptions \n",
    "# 7. Define your own exceptions Hierarchy\n",
    "# 8.Document all exceptions thrown by a function \n",
    "# 9. Provide contextual information when raising an exception \n",
    "# !0.Write test to ensure that excptions are raised correctly"
   ]
  },
  {
   "cell_type": "code",
   "execution_count": 3,
   "id": "2354110a-cfe3-413f-a98e-0e633d18e89a",
   "metadata": {},
   "outputs": [
    {
     "ename": "SyntaxError",
     "evalue": "invalid decimal literal (3757522972.py, line 3)",
     "output_type": "error",
     "traceback": [
      "\u001b[0;36m  Cell \u001b[0;32mIn[3], line 3\u001b[0;36m\u001b[0m\n\u001b[0;31m    2.Don't swallow the Exception\u001b[0m\n\u001b[0m     ^\u001b[0m\n\u001b[0;31mSyntaxError\u001b[0m\u001b[0;31m:\u001b[0m invalid decimal literal\n"
     ]
    }
   ],
   "source": [
    "#Question-6\n",
    "#1. Use Exceptions for exceptional cases\n",
    "#2.Don't swallow the Exception\n",
    "#3. catch specific exceptions\n",
    "#4. Always clean up resources in a finally block\n",
    "#5. Avoid Raising Generic Exceptions\n",
    "#6. Raise custom exceptions\n",
    "#7. Define your own exceptions Hierarchy\n",
    "8.Document all exceptions thrown by a function\n",
    "9. Provide contextual information when raising an exception\n",
    "!0.Write test to ensure that excptions are raised correctly¶\n"
   ]
  },
  {
   "cell_type": "code",
   "execution_count": null,
   "id": "c4d1f37a-d415-4561-8463-a941a2209764",
   "metadata": {},
   "outputs": [],
   "source": []
  }
 ],
 "metadata": {
  "kernelspec": {
   "display_name": "Python 3 (ipykernel)",
   "language": "python",
   "name": "python3"
  },
  "language_info": {
   "codemirror_mode": {
    "name": "ipython",
    "version": 3
   },
   "file_extension": ".py",
   "mimetype": "text/x-python",
   "name": "python",
   "nbconvert_exporter": "python",
   "pygments_lexer": "ipython3",
   "version": "3.10.8"
  }
 },
 "nbformat": 4,
 "nbformat_minor": 5
}
